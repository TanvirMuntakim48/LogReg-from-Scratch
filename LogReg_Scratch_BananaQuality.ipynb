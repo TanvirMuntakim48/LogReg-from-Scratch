{
  "nbformat": 4,
  "nbformat_minor": 0,
  "metadata": {
    "colab": {
      "provenance": []
    },
    "kernelspec": {
      "name": "python3",
      "display_name": "Python 3"
    },
    "language_info": {
      "name": "python"
    }
  },
  "cells": [
    {
      "cell_type": "markdown",
      "source": [
        "# Implementing Logistic Regression from Scratch\n",
        "\n",
        "In this notebook, I implement Logistic Regression from scratch and I further add a few extra things like:\n",
        "* Mini-Batch Training\n",
        "* L2 Regularization\n",
        "\n",
        "The logistic regression model is trained on the Banana dataset obtained from kaggle: https://www.kaggle.com/datasets/l3llff/banana"
      ],
      "metadata": {
        "id": "n9jincf9p-ck"
      }
    },
    {
      "cell_type": "code",
      "execution_count": null,
      "metadata": {
        "id": "b1lo6nnri_Su"
      },
      "outputs": [],
      "source": [
        "import sys\n",
        "import numpy as np\n",
        "import pandas as pd\n",
        "import matplotlib.pyplot as plt\n",
        "import seaborn as sb\n",
        "%matplotlib inline\n",
        "\n",
        "from scipy.io import loadmat\n",
        "from sklearn.metrics import accuracy_score, confusion_matrix, precision_score, recall_score, f1_score\n",
        "from sklearn.model_selection import train_test_split\n",
        "from sklearn.preprocessing import StandardScaler, PolynomialFeatures"
      ]
    },
    {
      "cell_type": "code",
      "source": [
        "from google.colab import drive\n",
        "drive.mount('/content/gdrive')"
      ],
      "metadata": {
        "id": "yHaqWDXEjTdo",
        "colab": {
          "base_uri": "https://localhost:8080/"
        },
        "outputId": "28cecaf6-185c-4d43-802b-484c3f628ab5"
      },
      "execution_count": null,
      "outputs": [
        {
          "output_type": "stream",
          "name": "stdout",
          "text": [
            "Mounted at /content/gdrive\n"
          ]
        }
      ]
    },
    {
      "cell_type": "code",
      "source": [
        "data = pd.read_csv('banana_quality.csv')\n",
        "\n",
        "print(data.shape)"
      ],
      "metadata": {
        "id": "uSPMDjFKkxvQ",
        "colab": {
          "base_uri": "https://localhost:8080/"
        },
        "outputId": "d4f0662e-a495-42c9-e7a3-2ded9204d91a"
      },
      "execution_count": null,
      "outputs": [
        {
          "output_type": "stream",
          "name": "stdout",
          "text": [
            "(8000, 8)\n"
          ]
        }
      ]
    },
    {
      "cell_type": "code",
      "source": [
        "data.head()"
      ],
      "metadata": {
        "colab": {
          "base_uri": "https://localhost:8080/",
          "height": 206
        },
        "id": "Uj5hHFeWk2QY",
        "outputId": "57181c88-9c89-4fcd-ad62-64ef97de6cb0"
      },
      "execution_count": null,
      "outputs": [
        {
          "output_type": "execute_result",
          "data": {
            "text/plain": [
              "       Size    Weight  Sweetness  Softness  HarvestTime  Ripeness   Acidity  \\\n",
              "0 -1.924968  0.468078   3.077832 -1.472177     0.294799  2.435570  0.271290   \n",
              "1 -2.409751  0.486870   0.346921 -2.495099    -0.892213  2.067549  0.307325   \n",
              "2 -0.357607  1.483176   1.568452 -2.645145    -0.647267  3.090643  1.427322   \n",
              "3 -0.868524  1.566201   1.889605 -1.273761    -1.006278  1.873001  0.477862   \n",
              "4  0.651825  1.319199  -0.022459 -1.209709    -1.430692  1.078345  2.812442   \n",
              "\n",
              "  Quality  \n",
              "0    Good  \n",
              "1    Good  \n",
              "2    Good  \n",
              "3    Good  \n",
              "4    Good  "
            ],
            "text/html": [
              "\n",
              "  <div id=\"df-4329c783-6ea7-4aaa-9c95-0d99e806f860\" class=\"colab-df-container\">\n",
              "    <div>\n",
              "<style scoped>\n",
              "    .dataframe tbody tr th:only-of-type {\n",
              "        vertical-align: middle;\n",
              "    }\n",
              "\n",
              "    .dataframe tbody tr th {\n",
              "        vertical-align: top;\n",
              "    }\n",
              "\n",
              "    .dataframe thead th {\n",
              "        text-align: right;\n",
              "    }\n",
              "</style>\n",
              "<table border=\"1\" class=\"dataframe\">\n",
              "  <thead>\n",
              "    <tr style=\"text-align: right;\">\n",
              "      <th></th>\n",
              "      <th>Size</th>\n",
              "      <th>Weight</th>\n",
              "      <th>Sweetness</th>\n",
              "      <th>Softness</th>\n",
              "      <th>HarvestTime</th>\n",
              "      <th>Ripeness</th>\n",
              "      <th>Acidity</th>\n",
              "      <th>Quality</th>\n",
              "    </tr>\n",
              "  </thead>\n",
              "  <tbody>\n",
              "    <tr>\n",
              "      <th>0</th>\n",
              "      <td>-1.924968</td>\n",
              "      <td>0.468078</td>\n",
              "      <td>3.077832</td>\n",
              "      <td>-1.472177</td>\n",
              "      <td>0.294799</td>\n",
              "      <td>2.435570</td>\n",
              "      <td>0.271290</td>\n",
              "      <td>Good</td>\n",
              "    </tr>\n",
              "    <tr>\n",
              "      <th>1</th>\n",
              "      <td>-2.409751</td>\n",
              "      <td>0.486870</td>\n",
              "      <td>0.346921</td>\n",
              "      <td>-2.495099</td>\n",
              "      <td>-0.892213</td>\n",
              "      <td>2.067549</td>\n",
              "      <td>0.307325</td>\n",
              "      <td>Good</td>\n",
              "    </tr>\n",
              "    <tr>\n",
              "      <th>2</th>\n",
              "      <td>-0.357607</td>\n",
              "      <td>1.483176</td>\n",
              "      <td>1.568452</td>\n",
              "      <td>-2.645145</td>\n",
              "      <td>-0.647267</td>\n",
              "      <td>3.090643</td>\n",
              "      <td>1.427322</td>\n",
              "      <td>Good</td>\n",
              "    </tr>\n",
              "    <tr>\n",
              "      <th>3</th>\n",
              "      <td>-0.868524</td>\n",
              "      <td>1.566201</td>\n",
              "      <td>1.889605</td>\n",
              "      <td>-1.273761</td>\n",
              "      <td>-1.006278</td>\n",
              "      <td>1.873001</td>\n",
              "      <td>0.477862</td>\n",
              "      <td>Good</td>\n",
              "    </tr>\n",
              "    <tr>\n",
              "      <th>4</th>\n",
              "      <td>0.651825</td>\n",
              "      <td>1.319199</td>\n",
              "      <td>-0.022459</td>\n",
              "      <td>-1.209709</td>\n",
              "      <td>-1.430692</td>\n",
              "      <td>1.078345</td>\n",
              "      <td>2.812442</td>\n",
              "      <td>Good</td>\n",
              "    </tr>\n",
              "  </tbody>\n",
              "</table>\n",
              "</div>\n",
              "    <div class=\"colab-df-buttons\">\n",
              "\n",
              "  <div class=\"colab-df-container\">\n",
              "    <button class=\"colab-df-convert\" onclick=\"convertToInteractive('df-4329c783-6ea7-4aaa-9c95-0d99e806f860')\"\n",
              "            title=\"Convert this dataframe to an interactive table.\"\n",
              "            style=\"display:none;\">\n",
              "\n",
              "  <svg xmlns=\"http://www.w3.org/2000/svg\" height=\"24px\" viewBox=\"0 -960 960 960\">\n",
              "    <path d=\"M120-120v-720h720v720H120Zm60-500h600v-160H180v160Zm220 220h160v-160H400v160Zm0 220h160v-160H400v160ZM180-400h160v-160H180v160Zm440 0h160v-160H620v160ZM180-180h160v-160H180v160Zm440 0h160v-160H620v160Z\"/>\n",
              "  </svg>\n",
              "    </button>\n",
              "\n",
              "  <style>\n",
              "    .colab-df-container {\n",
              "      display:flex;\n",
              "      gap: 12px;\n",
              "    }\n",
              "\n",
              "    .colab-df-convert {\n",
              "      background-color: #E8F0FE;\n",
              "      border: none;\n",
              "      border-radius: 50%;\n",
              "      cursor: pointer;\n",
              "      display: none;\n",
              "      fill: #1967D2;\n",
              "      height: 32px;\n",
              "      padding: 0 0 0 0;\n",
              "      width: 32px;\n",
              "    }\n",
              "\n",
              "    .colab-df-convert:hover {\n",
              "      background-color: #E2EBFA;\n",
              "      box-shadow: 0px 1px 2px rgba(60, 64, 67, 0.3), 0px 1px 3px 1px rgba(60, 64, 67, 0.15);\n",
              "      fill: #174EA6;\n",
              "    }\n",
              "\n",
              "    .colab-df-buttons div {\n",
              "      margin-bottom: 4px;\n",
              "    }\n",
              "\n",
              "    [theme=dark] .colab-df-convert {\n",
              "      background-color: #3B4455;\n",
              "      fill: #D2E3FC;\n",
              "    }\n",
              "\n",
              "    [theme=dark] .colab-df-convert:hover {\n",
              "      background-color: #434B5C;\n",
              "      box-shadow: 0px 1px 3px 1px rgba(0, 0, 0, 0.15);\n",
              "      filter: drop-shadow(0px 1px 2px rgba(0, 0, 0, 0.3));\n",
              "      fill: #FFFFFF;\n",
              "    }\n",
              "  </style>\n",
              "\n",
              "    <script>\n",
              "      const buttonEl =\n",
              "        document.querySelector('#df-4329c783-6ea7-4aaa-9c95-0d99e806f860 button.colab-df-convert');\n",
              "      buttonEl.style.display =\n",
              "        google.colab.kernel.accessAllowed ? 'block' : 'none';\n",
              "\n",
              "      async function convertToInteractive(key) {\n",
              "        const element = document.querySelector('#df-4329c783-6ea7-4aaa-9c95-0d99e806f860');\n",
              "        const dataTable =\n",
              "          await google.colab.kernel.invokeFunction('convertToInteractive',\n",
              "                                                    [key], {});\n",
              "        if (!dataTable) return;\n",
              "\n",
              "        const docLinkHtml = 'Like what you see? Visit the ' +\n",
              "          '<a target=\"_blank\" href=https://colab.research.google.com/notebooks/data_table.ipynb>data table notebook</a>'\n",
              "          + ' to learn more about interactive tables.';\n",
              "        element.innerHTML = '';\n",
              "        dataTable['output_type'] = 'display_data';\n",
              "        await google.colab.output.renderOutput(dataTable, element);\n",
              "        const docLink = document.createElement('div');\n",
              "        docLink.innerHTML = docLinkHtml;\n",
              "        element.appendChild(docLink);\n",
              "      }\n",
              "    </script>\n",
              "  </div>\n",
              "\n",
              "\n",
              "<div id=\"df-f0ac904d-6ffb-46cc-ae33-27939fcfe681\">\n",
              "  <button class=\"colab-df-quickchart\" onclick=\"quickchart('df-f0ac904d-6ffb-46cc-ae33-27939fcfe681')\"\n",
              "            title=\"Suggest charts\"\n",
              "            style=\"display:none;\">\n",
              "\n",
              "<svg xmlns=\"http://www.w3.org/2000/svg\" height=\"24px\"viewBox=\"0 0 24 24\"\n",
              "     width=\"24px\">\n",
              "    <g>\n",
              "        <path d=\"M19 3H5c-1.1 0-2 .9-2 2v14c0 1.1.9 2 2 2h14c1.1 0 2-.9 2-2V5c0-1.1-.9-2-2-2zM9 17H7v-7h2v7zm4 0h-2V7h2v10zm4 0h-2v-4h2v4z\"/>\n",
              "    </g>\n",
              "</svg>\n",
              "  </button>\n",
              "\n",
              "<style>\n",
              "  .colab-df-quickchart {\n",
              "      --bg-color: #E8F0FE;\n",
              "      --fill-color: #1967D2;\n",
              "      --hover-bg-color: #E2EBFA;\n",
              "      --hover-fill-color: #174EA6;\n",
              "      --disabled-fill-color: #AAA;\n",
              "      --disabled-bg-color: #DDD;\n",
              "  }\n",
              "\n",
              "  [theme=dark] .colab-df-quickchart {\n",
              "      --bg-color: #3B4455;\n",
              "      --fill-color: #D2E3FC;\n",
              "      --hover-bg-color: #434B5C;\n",
              "      --hover-fill-color: #FFFFFF;\n",
              "      --disabled-bg-color: #3B4455;\n",
              "      --disabled-fill-color: #666;\n",
              "  }\n",
              "\n",
              "  .colab-df-quickchart {\n",
              "    background-color: var(--bg-color);\n",
              "    border: none;\n",
              "    border-radius: 50%;\n",
              "    cursor: pointer;\n",
              "    display: none;\n",
              "    fill: var(--fill-color);\n",
              "    height: 32px;\n",
              "    padding: 0;\n",
              "    width: 32px;\n",
              "  }\n",
              "\n",
              "  .colab-df-quickchart:hover {\n",
              "    background-color: var(--hover-bg-color);\n",
              "    box-shadow: 0 1px 2px rgba(60, 64, 67, 0.3), 0 1px 3px 1px rgba(60, 64, 67, 0.15);\n",
              "    fill: var(--button-hover-fill-color);\n",
              "  }\n",
              "\n",
              "  .colab-df-quickchart-complete:disabled,\n",
              "  .colab-df-quickchart-complete:disabled:hover {\n",
              "    background-color: var(--disabled-bg-color);\n",
              "    fill: var(--disabled-fill-color);\n",
              "    box-shadow: none;\n",
              "  }\n",
              "\n",
              "  .colab-df-spinner {\n",
              "    border: 2px solid var(--fill-color);\n",
              "    border-color: transparent;\n",
              "    border-bottom-color: var(--fill-color);\n",
              "    animation:\n",
              "      spin 1s steps(1) infinite;\n",
              "  }\n",
              "\n",
              "  @keyframes spin {\n",
              "    0% {\n",
              "      border-color: transparent;\n",
              "      border-bottom-color: var(--fill-color);\n",
              "      border-left-color: var(--fill-color);\n",
              "    }\n",
              "    20% {\n",
              "      border-color: transparent;\n",
              "      border-left-color: var(--fill-color);\n",
              "      border-top-color: var(--fill-color);\n",
              "    }\n",
              "    30% {\n",
              "      border-color: transparent;\n",
              "      border-left-color: var(--fill-color);\n",
              "      border-top-color: var(--fill-color);\n",
              "      border-right-color: var(--fill-color);\n",
              "    }\n",
              "    40% {\n",
              "      border-color: transparent;\n",
              "      border-right-color: var(--fill-color);\n",
              "      border-top-color: var(--fill-color);\n",
              "    }\n",
              "    60% {\n",
              "      border-color: transparent;\n",
              "      border-right-color: var(--fill-color);\n",
              "    }\n",
              "    80% {\n",
              "      border-color: transparent;\n",
              "      border-right-color: var(--fill-color);\n",
              "      border-bottom-color: var(--fill-color);\n",
              "    }\n",
              "    90% {\n",
              "      border-color: transparent;\n",
              "      border-bottom-color: var(--fill-color);\n",
              "    }\n",
              "  }\n",
              "</style>\n",
              "\n",
              "  <script>\n",
              "    async function quickchart(key) {\n",
              "      const quickchartButtonEl =\n",
              "        document.querySelector('#' + key + ' button');\n",
              "      quickchartButtonEl.disabled = true;  // To prevent multiple clicks.\n",
              "      quickchartButtonEl.classList.add('colab-df-spinner');\n",
              "      try {\n",
              "        const charts = await google.colab.kernel.invokeFunction(\n",
              "            'suggestCharts', [key], {});\n",
              "      } catch (error) {\n",
              "        console.error('Error during call to suggestCharts:', error);\n",
              "      }\n",
              "      quickchartButtonEl.classList.remove('colab-df-spinner');\n",
              "      quickchartButtonEl.classList.add('colab-df-quickchart-complete');\n",
              "    }\n",
              "    (() => {\n",
              "      let quickchartButtonEl =\n",
              "        document.querySelector('#df-f0ac904d-6ffb-46cc-ae33-27939fcfe681 button');\n",
              "      quickchartButtonEl.style.display =\n",
              "        google.colab.kernel.accessAllowed ? 'block' : 'none';\n",
              "    })();\n",
              "  </script>\n",
              "</div>\n",
              "\n",
              "    </div>\n",
              "  </div>\n"
            ],
            "application/vnd.google.colaboratory.intrinsic+json": {
              "type": "dataframe",
              "variable_name": "data",
              "summary": "{\n  \"name\": \"data\",\n  \"rows\": 8000,\n  \"fields\": [\n    {\n      \"column\": \"Size\",\n      \"properties\": {\n        \"dtype\": \"number\",\n        \"std\": 2.1360227918920454,\n        \"min\": -7.9980736,\n        \"max\": 7.9708004,\n        \"num_unique_values\": 8000,\n        \"samples\": [\n          -1.1823753,\n          -2.1902218,\n          -0.01742254\n        ],\n        \"semantic_type\": \"\",\n        \"description\": \"\"\n      }\n    },\n    {\n      \"column\": \"Weight\",\n      \"properties\": {\n        \"dtype\": \"number\",\n        \"std\": 2.015934252771929,\n        \"min\": -8.283002,\n        \"max\": 5.679692,\n        \"num_unique_values\": 8000,\n        \"samples\": [\n          -1.5233536,\n          -2.8090863,\n          1.1875557\n        ],\n        \"semantic_type\": \"\",\n        \"description\": \"\"\n      }\n    },\n    {\n      \"column\": \"Sweetness\",\n      \"properties\": {\n        \"dtype\": \"number\",\n        \"std\": 1.9484548834162483,\n        \"min\": -6.4340215,\n        \"max\": 7.539374,\n        \"num_unique_values\": 8000,\n        \"samples\": [\n          -1.3909012,\n          -1.3944167,\n          4.7572994\n        ],\n        \"semantic_type\": \"\",\n        \"description\": \"\"\n      }\n    },\n    {\n      \"column\": \"Softness\",\n      \"properties\": {\n        \"dtype\": \"number\",\n        \"std\": 2.065215944309168,\n        \"min\": -6.9593196,\n        \"max\": 8.241555,\n        \"num_unique_values\": 8000,\n        \"samples\": [\n          -0.850838,\n          2.6063178,\n          1.0700845\n        ],\n        \"semantic_type\": \"\",\n        \"description\": \"\"\n      }\n    },\n    {\n      \"column\": \"HarvestTime\",\n      \"properties\": {\n        \"dtype\": \"number\",\n        \"std\": 1.9966607874097069,\n        \"min\": -7.5700083,\n        \"max\": 6.29328,\n        \"num_unique_values\": 8000,\n        \"samples\": [\n          -0.13659394,\n          -0.016427217,\n          -2.5047512\n        ],\n        \"semantic_type\": \"\",\n        \"description\": \"\"\n      }\n    },\n    {\n      \"column\": \"Ripeness\",\n      \"properties\": {\n        \"dtype\": \"number\",\n        \"std\": 2.1142893721428417,\n        \"min\": -7.4231553,\n        \"max\": 7.2490335,\n        \"num_unique_values\": 8000,\n        \"samples\": [\n          2.3312151,\n          5.5374675,\n          -1.0434868\n        ],\n        \"semantic_type\": \"\",\n        \"description\": \"\"\n      }\n    },\n    {\n      \"column\": \"Acidity\",\n      \"properties\": {\n        \"dtype\": \"number\",\n        \"std\": 2.2934666385409743,\n        \"min\": -8.226977,\n        \"max\": 7.4116335,\n        \"num_unique_values\": 8000,\n        \"samples\": [\n          -1.8286724,\n          -4.9408426,\n          2.5416763\n        ],\n        \"semantic_type\": \"\",\n        \"description\": \"\"\n      }\n    },\n    {\n      \"column\": \"Quality\",\n      \"properties\": {\n        \"dtype\": \"category\",\n        \"num_unique_values\": 2,\n        \"samples\": [\n          \"Bad\",\n          \"Good\"\n        ],\n        \"semantic_type\": \"\",\n        \"description\": \"\"\n      }\n    }\n  ]\n}"
            }
          },
          "metadata": {},
          "execution_count": 6
        }
      ]
    },
    {
      "cell_type": "code",
      "source": [
        "data.info()"
      ],
      "metadata": {
        "id": "KpLGS8RtlX4L",
        "colab": {
          "base_uri": "https://localhost:8080/"
        },
        "outputId": "559ca451-c1a5-40e0-d921-b62134d9e6f5"
      },
      "execution_count": null,
      "outputs": [
        {
          "output_type": "stream",
          "name": "stdout",
          "text": [
            "<class 'pandas.core.frame.DataFrame'>\n",
            "RangeIndex: 8000 entries, 0 to 7999\n",
            "Data columns (total 8 columns):\n",
            " #   Column       Non-Null Count  Dtype  \n",
            "---  ------       --------------  -----  \n",
            " 0   Size         8000 non-null   float64\n",
            " 1   Weight       8000 non-null   float64\n",
            " 2   Sweetness    8000 non-null   float64\n",
            " 3   Softness     8000 non-null   float64\n",
            " 4   HarvestTime  8000 non-null   float64\n",
            " 5   Ripeness     8000 non-null   float64\n",
            " 6   Acidity      8000 non-null   float64\n",
            " 7   Quality      8000 non-null   object \n",
            "dtypes: float64(7), object(1)\n",
            "memory usage: 500.1+ KB\n"
          ]
        }
      ]
    },
    {
      "cell_type": "code",
      "source": [
        "data.shape"
      ],
      "metadata": {
        "colab": {
          "base_uri": "https://localhost:8080/"
        },
        "id": "ZvPfcMoucPc-",
        "outputId": "31c12a3e-e083-4337-a31a-b5c9e1a24b52"
      },
      "execution_count": null,
      "outputs": [
        {
          "output_type": "execute_result",
          "data": {
            "text/plain": [
              "(8000, 8)"
            ]
          },
          "metadata": {},
          "execution_count": 8
        }
      ]
    },
    {
      "cell_type": "code",
      "source": [
        "data.loc[5]"
      ],
      "metadata": {
        "colab": {
          "base_uri": "https://localhost:8080/"
        },
        "id": "m-klIM4EcTC_",
        "outputId": "91a4627e-8900-4b8a-e3be-f388fd483778"
      },
      "execution_count": null,
      "outputs": [
        {
          "output_type": "execute_result",
          "data": {
            "text/plain": [
              "Size          -2.807722\n",
              "Weight         1.138136\n",
              "Sweetness      3.447627\n",
              "Softness      -1.713302\n",
              "HarvestTime   -2.220912\n",
              "Ripeness        2.07941\n",
              "Acidity        2.281203\n",
              "Quality            Good\n",
              "Name: 5, dtype: object"
            ]
          },
          "metadata": {},
          "execution_count": 9
        }
      ]
    },
    {
      "cell_type": "code",
      "source": [
        "data['Sweetness'].max()"
      ],
      "metadata": {
        "colab": {
          "base_uri": "https://localhost:8080/"
        },
        "id": "UqCoJncecfIV",
        "outputId": "6995fb54-b65f-46d7-a484-c97e9289f844"
      },
      "execution_count": null,
      "outputs": [
        {
          "output_type": "execute_result",
          "data": {
            "text/plain": [
              "7.539374"
            ]
          },
          "metadata": {},
          "execution_count": 10
        }
      ]
    },
    {
      "cell_type": "code",
      "source": [
        "data.describe()"
      ],
      "metadata": {
        "colab": {
          "base_uri": "https://localhost:8080/",
          "height": 300
        },
        "id": "rkNhUE-qc060",
        "outputId": "d73297cf-6ac3-4b6b-e247-955d14b4cbf4"
      },
      "execution_count": null,
      "outputs": [
        {
          "output_type": "execute_result",
          "data": {
            "text/plain": [
              "              Size       Weight    Sweetness     Softness  HarvestTime  \\\n",
              "count  8000.000000  8000.000000  8000.000000  8000.000000  8000.000000   \n",
              "mean     -0.747802    -0.761019    -0.770224    -0.014441    -0.751288   \n",
              "std       2.136023     2.015934     1.948455     2.065216     1.996661   \n",
              "min      -7.998074    -8.283002    -6.434022    -6.959320    -7.570008   \n",
              "25%      -2.277651    -2.223574    -2.107329    -1.590458    -2.120659   \n",
              "50%      -0.897514    -0.868659    -1.020673     0.202644    -0.934192   \n",
              "75%       0.654216     0.775491     0.311048     1.547120     0.507326   \n",
              "max       7.970800     5.679692     7.539374     8.241555     6.293280   \n",
              "\n",
              "          Ripeness      Acidity  \n",
              "count  8000.000000  8000.000000  \n",
              "mean      0.781098     0.008725  \n",
              "std       2.114289     2.293467  \n",
              "min      -7.423155    -8.226977  \n",
              "25%      -0.574226    -1.629450  \n",
              "50%       0.964952     0.098735  \n",
              "75%       2.261650     1.682063  \n",
              "max       7.249034     7.411633  "
            ],
            "text/html": [
              "\n",
              "  <div id=\"df-4863cba7-9451-450e-9c16-522d58f9f621\" class=\"colab-df-container\">\n",
              "    <div>\n",
              "<style scoped>\n",
              "    .dataframe tbody tr th:only-of-type {\n",
              "        vertical-align: middle;\n",
              "    }\n",
              "\n",
              "    .dataframe tbody tr th {\n",
              "        vertical-align: top;\n",
              "    }\n",
              "\n",
              "    .dataframe thead th {\n",
              "        text-align: right;\n",
              "    }\n",
              "</style>\n",
              "<table border=\"1\" class=\"dataframe\">\n",
              "  <thead>\n",
              "    <tr style=\"text-align: right;\">\n",
              "      <th></th>\n",
              "      <th>Size</th>\n",
              "      <th>Weight</th>\n",
              "      <th>Sweetness</th>\n",
              "      <th>Softness</th>\n",
              "      <th>HarvestTime</th>\n",
              "      <th>Ripeness</th>\n",
              "      <th>Acidity</th>\n",
              "    </tr>\n",
              "  </thead>\n",
              "  <tbody>\n",
              "    <tr>\n",
              "      <th>count</th>\n",
              "      <td>8000.000000</td>\n",
              "      <td>8000.000000</td>\n",
              "      <td>8000.000000</td>\n",
              "      <td>8000.000000</td>\n",
              "      <td>8000.000000</td>\n",
              "      <td>8000.000000</td>\n",
              "      <td>8000.000000</td>\n",
              "    </tr>\n",
              "    <tr>\n",
              "      <th>mean</th>\n",
              "      <td>-0.747802</td>\n",
              "      <td>-0.761019</td>\n",
              "      <td>-0.770224</td>\n",
              "      <td>-0.014441</td>\n",
              "      <td>-0.751288</td>\n",
              "      <td>0.781098</td>\n",
              "      <td>0.008725</td>\n",
              "    </tr>\n",
              "    <tr>\n",
              "      <th>std</th>\n",
              "      <td>2.136023</td>\n",
              "      <td>2.015934</td>\n",
              "      <td>1.948455</td>\n",
              "      <td>2.065216</td>\n",
              "      <td>1.996661</td>\n",
              "      <td>2.114289</td>\n",
              "      <td>2.293467</td>\n",
              "    </tr>\n",
              "    <tr>\n",
              "      <th>min</th>\n",
              "      <td>-7.998074</td>\n",
              "      <td>-8.283002</td>\n",
              "      <td>-6.434022</td>\n",
              "      <td>-6.959320</td>\n",
              "      <td>-7.570008</td>\n",
              "      <td>-7.423155</td>\n",
              "      <td>-8.226977</td>\n",
              "    </tr>\n",
              "    <tr>\n",
              "      <th>25%</th>\n",
              "      <td>-2.277651</td>\n",
              "      <td>-2.223574</td>\n",
              "      <td>-2.107329</td>\n",
              "      <td>-1.590458</td>\n",
              "      <td>-2.120659</td>\n",
              "      <td>-0.574226</td>\n",
              "      <td>-1.629450</td>\n",
              "    </tr>\n",
              "    <tr>\n",
              "      <th>50%</th>\n",
              "      <td>-0.897514</td>\n",
              "      <td>-0.868659</td>\n",
              "      <td>-1.020673</td>\n",
              "      <td>0.202644</td>\n",
              "      <td>-0.934192</td>\n",
              "      <td>0.964952</td>\n",
              "      <td>0.098735</td>\n",
              "    </tr>\n",
              "    <tr>\n",
              "      <th>75%</th>\n",
              "      <td>0.654216</td>\n",
              "      <td>0.775491</td>\n",
              "      <td>0.311048</td>\n",
              "      <td>1.547120</td>\n",
              "      <td>0.507326</td>\n",
              "      <td>2.261650</td>\n",
              "      <td>1.682063</td>\n",
              "    </tr>\n",
              "    <tr>\n",
              "      <th>max</th>\n",
              "      <td>7.970800</td>\n",
              "      <td>5.679692</td>\n",
              "      <td>7.539374</td>\n",
              "      <td>8.241555</td>\n",
              "      <td>6.293280</td>\n",
              "      <td>7.249034</td>\n",
              "      <td>7.411633</td>\n",
              "    </tr>\n",
              "  </tbody>\n",
              "</table>\n",
              "</div>\n",
              "    <div class=\"colab-df-buttons\">\n",
              "\n",
              "  <div class=\"colab-df-container\">\n",
              "    <button class=\"colab-df-convert\" onclick=\"convertToInteractive('df-4863cba7-9451-450e-9c16-522d58f9f621')\"\n",
              "            title=\"Convert this dataframe to an interactive table.\"\n",
              "            style=\"display:none;\">\n",
              "\n",
              "  <svg xmlns=\"http://www.w3.org/2000/svg\" height=\"24px\" viewBox=\"0 -960 960 960\">\n",
              "    <path d=\"M120-120v-720h720v720H120Zm60-500h600v-160H180v160Zm220 220h160v-160H400v160Zm0 220h160v-160H400v160ZM180-400h160v-160H180v160Zm440 0h160v-160H620v160ZM180-180h160v-160H180v160Zm440 0h160v-160H620v160Z\"/>\n",
              "  </svg>\n",
              "    </button>\n",
              "\n",
              "  <style>\n",
              "    .colab-df-container {\n",
              "      display:flex;\n",
              "      gap: 12px;\n",
              "    }\n",
              "\n",
              "    .colab-df-convert {\n",
              "      background-color: #E8F0FE;\n",
              "      border: none;\n",
              "      border-radius: 50%;\n",
              "      cursor: pointer;\n",
              "      display: none;\n",
              "      fill: #1967D2;\n",
              "      height: 32px;\n",
              "      padding: 0 0 0 0;\n",
              "      width: 32px;\n",
              "    }\n",
              "\n",
              "    .colab-df-convert:hover {\n",
              "      background-color: #E2EBFA;\n",
              "      box-shadow: 0px 1px 2px rgba(60, 64, 67, 0.3), 0px 1px 3px 1px rgba(60, 64, 67, 0.15);\n",
              "      fill: #174EA6;\n",
              "    }\n",
              "\n",
              "    .colab-df-buttons div {\n",
              "      margin-bottom: 4px;\n",
              "    }\n",
              "\n",
              "    [theme=dark] .colab-df-convert {\n",
              "      background-color: #3B4455;\n",
              "      fill: #D2E3FC;\n",
              "    }\n",
              "\n",
              "    [theme=dark] .colab-df-convert:hover {\n",
              "      background-color: #434B5C;\n",
              "      box-shadow: 0px 1px 3px 1px rgba(0, 0, 0, 0.15);\n",
              "      filter: drop-shadow(0px 1px 2px rgba(0, 0, 0, 0.3));\n",
              "      fill: #FFFFFF;\n",
              "    }\n",
              "  </style>\n",
              "\n",
              "    <script>\n",
              "      const buttonEl =\n",
              "        document.querySelector('#df-4863cba7-9451-450e-9c16-522d58f9f621 button.colab-df-convert');\n",
              "      buttonEl.style.display =\n",
              "        google.colab.kernel.accessAllowed ? 'block' : 'none';\n",
              "\n",
              "      async function convertToInteractive(key) {\n",
              "        const element = document.querySelector('#df-4863cba7-9451-450e-9c16-522d58f9f621');\n",
              "        const dataTable =\n",
              "          await google.colab.kernel.invokeFunction('convertToInteractive',\n",
              "                                                    [key], {});\n",
              "        if (!dataTable) return;\n",
              "\n",
              "        const docLinkHtml = 'Like what you see? Visit the ' +\n",
              "          '<a target=\"_blank\" href=https://colab.research.google.com/notebooks/data_table.ipynb>data table notebook</a>'\n",
              "          + ' to learn more about interactive tables.';\n",
              "        element.innerHTML = '';\n",
              "        dataTable['output_type'] = 'display_data';\n",
              "        await google.colab.output.renderOutput(dataTable, element);\n",
              "        const docLink = document.createElement('div');\n",
              "        docLink.innerHTML = docLinkHtml;\n",
              "        element.appendChild(docLink);\n",
              "      }\n",
              "    </script>\n",
              "  </div>\n",
              "\n",
              "\n",
              "<div id=\"df-ee2dde38-f294-4908-a42e-07a2455c386e\">\n",
              "  <button class=\"colab-df-quickchart\" onclick=\"quickchart('df-ee2dde38-f294-4908-a42e-07a2455c386e')\"\n",
              "            title=\"Suggest charts\"\n",
              "            style=\"display:none;\">\n",
              "\n",
              "<svg xmlns=\"http://www.w3.org/2000/svg\" height=\"24px\"viewBox=\"0 0 24 24\"\n",
              "     width=\"24px\">\n",
              "    <g>\n",
              "        <path d=\"M19 3H5c-1.1 0-2 .9-2 2v14c0 1.1.9 2 2 2h14c1.1 0 2-.9 2-2V5c0-1.1-.9-2-2-2zM9 17H7v-7h2v7zm4 0h-2V7h2v10zm4 0h-2v-4h2v4z\"/>\n",
              "    </g>\n",
              "</svg>\n",
              "  </button>\n",
              "\n",
              "<style>\n",
              "  .colab-df-quickchart {\n",
              "      --bg-color: #E8F0FE;\n",
              "      --fill-color: #1967D2;\n",
              "      --hover-bg-color: #E2EBFA;\n",
              "      --hover-fill-color: #174EA6;\n",
              "      --disabled-fill-color: #AAA;\n",
              "      --disabled-bg-color: #DDD;\n",
              "  }\n",
              "\n",
              "  [theme=dark] .colab-df-quickchart {\n",
              "      --bg-color: #3B4455;\n",
              "      --fill-color: #D2E3FC;\n",
              "      --hover-bg-color: #434B5C;\n",
              "      --hover-fill-color: #FFFFFF;\n",
              "      --disabled-bg-color: #3B4455;\n",
              "      --disabled-fill-color: #666;\n",
              "  }\n",
              "\n",
              "  .colab-df-quickchart {\n",
              "    background-color: var(--bg-color);\n",
              "    border: none;\n",
              "    border-radius: 50%;\n",
              "    cursor: pointer;\n",
              "    display: none;\n",
              "    fill: var(--fill-color);\n",
              "    height: 32px;\n",
              "    padding: 0;\n",
              "    width: 32px;\n",
              "  }\n",
              "\n",
              "  .colab-df-quickchart:hover {\n",
              "    background-color: var(--hover-bg-color);\n",
              "    box-shadow: 0 1px 2px rgba(60, 64, 67, 0.3), 0 1px 3px 1px rgba(60, 64, 67, 0.15);\n",
              "    fill: var(--button-hover-fill-color);\n",
              "  }\n",
              "\n",
              "  .colab-df-quickchart-complete:disabled,\n",
              "  .colab-df-quickchart-complete:disabled:hover {\n",
              "    background-color: var(--disabled-bg-color);\n",
              "    fill: var(--disabled-fill-color);\n",
              "    box-shadow: none;\n",
              "  }\n",
              "\n",
              "  .colab-df-spinner {\n",
              "    border: 2px solid var(--fill-color);\n",
              "    border-color: transparent;\n",
              "    border-bottom-color: var(--fill-color);\n",
              "    animation:\n",
              "      spin 1s steps(1) infinite;\n",
              "  }\n",
              "\n",
              "  @keyframes spin {\n",
              "    0% {\n",
              "      border-color: transparent;\n",
              "      border-bottom-color: var(--fill-color);\n",
              "      border-left-color: var(--fill-color);\n",
              "    }\n",
              "    20% {\n",
              "      border-color: transparent;\n",
              "      border-left-color: var(--fill-color);\n",
              "      border-top-color: var(--fill-color);\n",
              "    }\n",
              "    30% {\n",
              "      border-color: transparent;\n",
              "      border-left-color: var(--fill-color);\n",
              "      border-top-color: var(--fill-color);\n",
              "      border-right-color: var(--fill-color);\n",
              "    }\n",
              "    40% {\n",
              "      border-color: transparent;\n",
              "      border-right-color: var(--fill-color);\n",
              "      border-top-color: var(--fill-color);\n",
              "    }\n",
              "    60% {\n",
              "      border-color: transparent;\n",
              "      border-right-color: var(--fill-color);\n",
              "    }\n",
              "    80% {\n",
              "      border-color: transparent;\n",
              "      border-right-color: var(--fill-color);\n",
              "      border-bottom-color: var(--fill-color);\n",
              "    }\n",
              "    90% {\n",
              "      border-color: transparent;\n",
              "      border-bottom-color: var(--fill-color);\n",
              "    }\n",
              "  }\n",
              "</style>\n",
              "\n",
              "  <script>\n",
              "    async function quickchart(key) {\n",
              "      const quickchartButtonEl =\n",
              "        document.querySelector('#' + key + ' button');\n",
              "      quickchartButtonEl.disabled = true;  // To prevent multiple clicks.\n",
              "      quickchartButtonEl.classList.add('colab-df-spinner');\n",
              "      try {\n",
              "        const charts = await google.colab.kernel.invokeFunction(\n",
              "            'suggestCharts', [key], {});\n",
              "      } catch (error) {\n",
              "        console.error('Error during call to suggestCharts:', error);\n",
              "      }\n",
              "      quickchartButtonEl.classList.remove('colab-df-spinner');\n",
              "      quickchartButtonEl.classList.add('colab-df-quickchart-complete');\n",
              "    }\n",
              "    (() => {\n",
              "      let quickchartButtonEl =\n",
              "        document.querySelector('#df-ee2dde38-f294-4908-a42e-07a2455c386e button');\n",
              "      quickchartButtonEl.style.display =\n",
              "        google.colab.kernel.accessAllowed ? 'block' : 'none';\n",
              "    })();\n",
              "  </script>\n",
              "</div>\n",
              "\n",
              "    </div>\n",
              "  </div>\n"
            ],
            "application/vnd.google.colaboratory.intrinsic+json": {
              "type": "dataframe",
              "summary": "{\n  \"name\": \"data\",\n  \"rows\": 8,\n  \"fields\": [\n    {\n      \"column\": \"Size\",\n      \"properties\": {\n        \"dtype\": \"number\",\n        \"std\": 2828.489220146718,\n        \"min\": -7.9980736,\n        \"max\": 8000.0,\n        \"num_unique_values\": 8,\n        \"samples\": [\n          -0.747801801669379,\n          -0.89751402,\n          8000.0\n        ],\n        \"semantic_type\": \"\",\n        \"description\": \"\"\n      }\n    },\n    {\n      \"column\": \"Weight\",\n      \"properties\": {\n        \"dtype\": \"number\",\n        \"std\": 2828.6150171138556,\n        \"min\": -8.283002,\n        \"max\": 8000.0,\n        \"num_unique_values\": 8,\n        \"samples\": [\n          -0.7610193750192439,\n          -0.868658975,\n          8000.0\n        ],\n        \"semantic_type\": \"\",\n        \"description\": \"\"\n      }\n    },\n    {\n      \"column\": \"Sweetness\",\n      \"properties\": {\n        \"dtype\": \"number\",\n        \"std\": 2828.4567956678434,\n        \"min\": -6.4340215,\n        \"max\": 8000.0,\n        \"num_unique_values\": 8,\n        \"samples\": [\n          -0.7702241042843923,\n          -1.0206731,\n          8000.0\n        ],\n        \"semantic_type\": \"\",\n        \"description\": \"\"\n      }\n    },\n    {\n      \"column\": \"Softness\",\n      \"properties\": {\n        \"dtype\": \"number\",\n        \"std\": 2828.253863829764,\n        \"min\": -6.9593196,\n        \"max\": 8000.0,\n        \"num_unique_values\": 8,\n        \"samples\": [\n          -0.014440881038258795,\n          0.20264395,\n          8000.0\n        ],\n        \"semantic_type\": \"\",\n        \"description\": \"\"\n      }\n    },\n    {\n      \"column\": \"HarvestTime\",\n      \"properties\": {\n        \"dtype\": \"number\",\n        \"std\": 2828.5600581614904,\n        \"min\": -7.5700083,\n        \"max\": 8000.0,\n        \"num_unique_values\": 8,\n        \"samples\": [\n          -0.7512883019195963,\n          -0.93419198,\n          8000.0\n        ],\n        \"semantic_type\": \"\",\n        \"description\": \"\"\n      }\n    },\n    {\n      \"column\": \"Ripeness\",\n      \"properties\": {\n        \"dtype\": \"number\",\n        \"std\": 2828.1586188491356,\n        \"min\": -7.4231553,\n        \"max\": 8000.0,\n        \"num_unique_values\": 8,\n        \"samples\": [\n          0.7810983560473437,\n          0.96495169,\n          8000.0\n        ],\n        \"semantic_type\": \"\",\n        \"description\": \"\"\n      }\n    },\n    {\n      \"column\": \"Acidity\",\n      \"properties\": {\n        \"dtype\": \"number\",\n        \"std\": 2828.347741846063,\n        \"min\": -8.226977,\n        \"max\": 8000.0,\n        \"num_unique_values\": 8,\n        \"samples\": [\n          0.008725080184739966,\n          0.09873514,\n          8000.0\n        ],\n        \"semantic_type\": \"\",\n        \"description\": \"\"\n      }\n    }\n  ]\n}"
            }
          },
          "metadata": {},
          "execution_count": 11
        }
      ]
    },
    {
      "cell_type": "code",
      "source": [
        "X = np.array(data)[:,:-1].astype(np.float64)\n",
        "\n",
        "Y = np.array(data['Quality'] == 'Good').astype('int')"
      ],
      "metadata": {
        "id": "ZNwoPLSjc6Wc"
      },
      "execution_count": null,
      "outputs": []
    },
    {
      "cell_type": "code",
      "source": [
        "print(X.shape, X[1])\n",
        "\n",
        "print(Y.shape)"
      ],
      "metadata": {
        "colab": {
          "base_uri": "https://localhost:8080/"
        },
        "id": "yzDozfhgdvFs",
        "outputId": "53c4b283-7c5c-42c8-9f46-febf0a44045f"
      },
      "execution_count": null,
      "outputs": [
        {
          "output_type": "stream",
          "name": "stdout",
          "text": [
            "(8000, 7) [-2.4097514   0.48686993  0.34692144 -2.4950993  -0.8922133   2.0675488\n",
            "  0.30732512]\n",
            "(8000,)\n"
          ]
        }
      ]
    },
    {
      "cell_type": "code",
      "source": [
        "arb = np.random.randint(0,8000)\n",
        "\n",
        "print(arb)\n",
        "print(data.iloc[arb])\n",
        "print(Y[arb])"
      ],
      "metadata": {
        "colab": {
          "base_uri": "https://localhost:8080/"
        },
        "id": "F2zytir1fnW4",
        "outputId": "ba8a31c4-8106-4273-f1c3-f2e43944551c"
      },
      "execution_count": null,
      "outputs": [
        {
          "output_type": "stream",
          "name": "stdout",
          "text": [
            "2327\n",
            "Size           0.672301\n",
            "Weight        -2.563164\n",
            "Sweetness     -1.285792\n",
            "Softness      -4.035342\n",
            "HarvestTime   -0.943818\n",
            "Ripeness       2.599799\n",
            "Acidity        1.285289\n",
            "Quality             Bad\n",
            "Name: 2327, dtype: object\n",
            "0\n"
          ]
        }
      ]
    },
    {
      "cell_type": "code",
      "source": [
        "# We start our data preprocessing and actual ML coding here\n",
        "\n",
        "m = X.shape[0]\n",
        "n = X.shape[1]\n",
        "\n",
        "print(f\"Training examples: {m}, Features: {n}\")"
      ],
      "metadata": {
        "colab": {
          "base_uri": "https://localhost:8080/"
        },
        "id": "xiC9mPjBg0y-",
        "outputId": "90f4ae8e-2c41-4548-a5c1-ef92ec471e30"
      },
      "execution_count": null,
      "outputs": [
        {
          "output_type": "stream",
          "name": "stdout",
          "text": [
            "Training examples: 8000, Features: 7\n"
          ]
        }
      ]
    },
    {
      "cell_type": "code",
      "source": [
        "# creating a normalization function\n",
        "# Need some clarification on this. Remember to ask\n",
        "def normalize(data):\n",
        "    mean = np.mean(data, axis=0, keepdims=True)\n",
        "    # print(mean)\n",
        "    std = np.std(data, axis=0, keepdims=True)\n",
        "    # print(std)\n",
        "    data_normalized = (data - mean)/std\n",
        "    return data_normalized\n"
      ],
      "metadata": {
        "id": "-Vw2V7pWiyEU"
      },
      "execution_count": null,
      "outputs": []
    },
    {
      "cell_type": "code",
      "source": [
        "X_norm = normalize(X)"
      ],
      "metadata": {
        "id": "efOwWDsWi49D"
      },
      "execution_count": null,
      "outputs": []
    },
    {
      "cell_type": "code",
      "source": [
        "print(X[10], X_norm[10], Y[10])"
      ],
      "metadata": {
        "colab": {
          "base_uri": "https://localhost:8080/"
        },
        "id": "BpS3AVM8i808",
        "outputId": "e18f4bcf-83ed-4d0a-b586-8f2570a19b4d"
      },
      "execution_count": null,
      "outputs": [
        {
          "output_type": "stream",
          "name": "stdout",
          "text": [
            "[-1.5878931   1.4466584   0.13883868 -2.8589776  -1.7612225   2.4337273\n",
            "  1.7631273 ] [-0.39332156  1.09518243  0.46658489 -1.37744168 -0.50584322  0.78169633\n",
            "  0.76500432] 1\n"
          ]
        }
      ]
    },
    {
      "cell_type": "code",
      "source": [
        "a = [[1, 2, 3, 4, 5, 6], [-1, -2, -3, -4, -5, -6]]\n",
        "\n",
        "np.mean(a, axis=0)"
      ],
      "metadata": {
        "colab": {
          "base_uri": "https://localhost:8080/"
        },
        "id": "BxCNq7XOjzik",
        "outputId": "219012dc-b47e-4bcb-c1ce-117dc0b77cdc"
      },
      "execution_count": null,
      "outputs": [
        {
          "output_type": "execute_result",
          "data": {
            "text/plain": [
              "array([0., 0., 0., 0., 0., 0.])"
            ]
          },
          "metadata": {},
          "execution_count": 19
        }
      ]
    },
    {
      "cell_type": "code",
      "source": [
        "# Concatenating X with a column of ones\n",
        "def concatenator(X):\n",
        "    m = X.shape[0]\n",
        "    arb = np.hstack((np.ones([m,1]),X))\n",
        "    print(f\"The data now has a column of ones in front. It went from dimensions {X.shape} to {arb.shape}\")\n",
        "    return arb"
      ],
      "metadata": {
        "id": "sv3BLnEOkOw9"
      },
      "execution_count": null,
      "outputs": []
    },
    {
      "cell_type": "code",
      "source": [
        "# Split to train and test\n",
        "\n",
        "X_train, X_test, Y_train, Y_test = train_test_split(X_norm, Y, test_size=0.20, random_state=42)\n",
        "Y_train = Y_train.reshape(-1,1)\n",
        "Y_test = Y_test.reshape(-1,1)\n",
        "print(\"The shape of the training set feature matrix is:\", X_train.shape)\n",
        "print(\"The shape of the training label vector is:\", Y_train.shape)\n",
        "print(\"The shape of the test set feature matrix is:\", X_test.shape)\n",
        "print(\"The shape of the test label vector is:\", Y_test.shape)\n",
        "\n",
        "print(np.sum((Y_train==0).astype(int)))\n",
        "print(np.sum((Y_test==0).astype(int)))"
      ],
      "metadata": {
        "colab": {
          "base_uri": "https://localhost:8080/"
        },
        "id": "wG3TO4JalSvL",
        "outputId": "6b00d806-2fd7-432e-bf1c-55af0d2e6355"
      },
      "execution_count": null,
      "outputs": [
        {
          "output_type": "stream",
          "name": "stdout",
          "text": [
            "The shape of the training set feature matrix is: (6400, 7)\n",
            "The shape of the training label vector is: (6400, 1)\n",
            "The shape of the test set feature matrix is: (1600, 7)\n",
            "The shape of the test label vector is: (1600, 1)\n",
            "3213\n",
            "781\n"
          ]
        }
      ]
    },
    {
      "cell_type": "code",
      "source": [
        "X_train_n = concatenator(X_train)\n",
        "X_test_n = concatenator(X_test)\n",
        "\n",
        "print(X_train_n.shape)\n",
        "print(X_test_n.shape)\n"
      ],
      "metadata": {
        "colab": {
          "base_uri": "https://localhost:8080/"
        },
        "id": "42fsFVpgldPA",
        "outputId": "b0be1532-c034-4d9f-9b92-76ed30c320d5"
      },
      "execution_count": null,
      "outputs": [
        {
          "output_type": "stream",
          "name": "stdout",
          "text": [
            "The data now has a column of ones in front. It went from dimensions (6400, 7) to (6400, 8)\n",
            "The data now has a column of ones in front. It went from dimensions (1600, 7) to (1600, 8)\n",
            "(6400, 8)\n",
            "(1600, 8)\n"
          ]
        }
      ]
    },
    {
      "cell_type": "code",
      "source": [
        "# Gradient initializer\n",
        "def initializer(n):\n",
        "    theta = np.zeros((n,1))\n",
        "    return theta\n",
        "\n",
        "# Implementation of sigmoid function\n",
        "def sig(z):\n",
        "    return 1/(1+np.exp(-z))\n",
        "\n",
        "# Implementation of hypothesis\n",
        "def hypothesis(X, theta):\n",
        "    h = np.dot(X, theta)\n",
        "    return sig(h)\n",
        "\n",
        "# Implementation of cost function\n",
        "def cost(X, y, theta, lam):\n",
        "    m = X.shape[0]\n",
        "    h = hypothesis(X, theta)\n",
        "    J1 = -np.dot(y.T, np.log(h))\n",
        "    J2 = -np.dot((1-y).T, np.log(1-h))\n",
        "    J = (J1 + J2) / m + (lam / (2*m)) * np.dot(theta.T, theta)\n",
        "    J = J.item()\n",
        "    return J\n",
        "\n",
        "# Gradient Calculations\n",
        "def grad(X, y, theta, lam):\n",
        "    m = X.shape[0]\n",
        "    n = X.shape[1]\n",
        "    h = hypothesis(X, theta)\n",
        "    dtheta = np.dot(X.T, (h-y)) / m\n",
        "\n",
        "    arb = np.zeros((n,1))\n",
        "    arb[1:] = theta[1:]\n",
        "    dtheta = dtheta + (lam / m) * arb\n",
        "    return dtheta"
      ],
      "metadata": {
        "id": "-ppEkDprllLq"
      },
      "execution_count": null,
      "outputs": []
    },
    {
      "cell_type": "code",
      "source": [
        "# Create prediction function\n",
        "\n",
        "def predict(X, theta):\n",
        "    Yhat_prob = sig(np.matmul(X, theta))\n",
        "    Yhat = np.round(Yhat_prob).astype(int)\n",
        "    return Yhat, Yhat_prob\n",
        "\n",
        "# Create prediction function, this is for\n",
        "\n",
        "def predictor(X, theta):\n",
        "    Yhat_prob = sig(theta[0] + np.dot(X, theta[1:]))\n",
        "    Yhat = np.round(Yhat_prob).astype(int)\n",
        "    return Yhat, Yhat_prob"
      ],
      "metadata": {
        "id": "vm8HMJqxlnDS"
      },
      "execution_count": null,
      "outputs": []
    },
    {
      "cell_type": "code",
      "source": [
        "# Creating the gradient descent optimizer function\n",
        "\n",
        "def gradient_descent(X, Y, X_test, Y_test, theta, alpha, epoch, batch_size, lam):\n",
        "    i=0\n",
        "    RMSE = 1\n",
        "    m = X.shape[0]\n",
        "    blocks = np.ceil(m / batch_size).astype('int')\n",
        "\n",
        "    cost_history=[]\n",
        "    test_acc_history = []\n",
        "    train_acc_history = []\n",
        "\n",
        "    J = cost(X, Y, theta, lam)\n",
        "\n",
        "    cost_history.append(J)\n",
        "\n",
        "    Yhat, _ = predict(X, theta)\n",
        "    train_accuracy = accuracy_score(Yhat, Y)\n",
        "    train_acc_history.append(train_accuracy)\n",
        "\n",
        "    Yhat, _ = predict(X_test, theta)\n",
        "    test_accuracy = accuracy_score(Yhat, Y_test)\n",
        "    test_acc_history.append(test_accuracy)\n",
        "\n",
        "    # while (i<max_iter):\n",
        "    #     print(f\"Iteration count: {i} / {max_iter}\", end = '\\r')\n",
        "    #     J = cost(X, Y, theta, lam)\n",
        "    #     dtheta = grad(X, Y, theta, lam)\n",
        "    #     theta = theta - alpha * dtheta\n",
        "\n",
        "    #     cost_history.append(J)\n",
        "\n",
        "    #     Yhat, _ = predict(X, theta)\n",
        "    #     train_accuracy = accuracy_score(Yhat, Y_train)\n",
        "    #     train_acc_history.append(train_accuracy)\n",
        "\n",
        "    #     Yhat, _ = predict(X_test, theta)\n",
        "    #     test_accuracy = accuracy_score(Yhat, Y_test)\n",
        "    #     test_acc_history.append(test_accuracy)\n",
        "\n",
        "    for i in range(epoch):\n",
        "        print(f\"Epoch number: {i} / {epoch}\")\n",
        "\n",
        "        print(f\"Cost: {J}, Train accuracy: {train_accuracy * 100} %, Test accuracy: {test_accuracy * 100} %\")\n",
        "\n",
        "\n",
        "\n",
        "        for k in range(blocks):\n",
        "            # print(f\"Block count: {k*batch_size} / {m}\")\n",
        "\n",
        "            if (k+1) == blocks:\n",
        "                X_curr = X[(k*batch_size):,:]\n",
        "                Y_curr = Y[(k*batch_size):,:]\n",
        "            else:\n",
        "                X_curr = X[(k*batch_size):((k+1)*batch_size),:]\n",
        "                Y_curr = Y[(k*batch_size):((k+1)*batch_size),:]\n",
        "\n",
        "            J = cost(X_curr, Y_curr, theta, lam)\n",
        "            dtheta = grad(X_curr, Y_curr, theta, lam)\n",
        "            theta = theta - alpha * dtheta\n",
        "\n",
        "            cost_history.append(J)\n",
        "\n",
        "            Yhat, _ = predict(X, theta)\n",
        "            train_accuracy = accuracy_score(Yhat, Y)\n",
        "            train_acc_history.append(train_accuracy)\n",
        "\n",
        "            Yhat, _ = predict(X_test, theta)\n",
        "            test_accuracy = accuracy_score(Yhat, Y_test)\n",
        "            test_acc_history.append(test_accuracy)\n",
        "\n",
        "\n",
        "    return cost_history, train_acc_history, test_acc_history, theta, i"
      ],
      "metadata": {
        "id": "JlxYtx7YlqsX"
      },
      "execution_count": null,
      "outputs": []
    },
    {
      "cell_type": "code",
      "source": [
        "def LogRegModel(X_train, Y_train, X_test, Y_test, alpha, epoch, batch_size, lam):\n",
        "\n",
        "    n = X_train.shape[1]\n",
        "    theta = initializer(n)\n",
        "    cost_history, train_acc_history, test_acc_history, theta, i = gradient_descent(X_train, Y_train, X_test, Y_test, theta, alpha, epoch, batch_size, lam)\n",
        "    Yhat_train, _ = predict(X_train, theta)\n",
        "    Yhat, _ = predict(X_test, theta)\n",
        "\n",
        "    train_acc = accuracy_score(Y_train, Yhat_train)\n",
        "    test_acc = accuracy_score(Y_test, Yhat)\n",
        "    conf_matrix = confusion_matrix(Y_test, Yhat, normalize = None)\n",
        "\n",
        "    model = {'weights': theta,\n",
        "            'train_accuracy': train_acc,\n",
        "            'test_accuracy': test_acc,\n",
        "            'confusion_matrix': conf_matrix,\n",
        "            'cost_history': cost_history,\n",
        "             'train_history': train_acc_history,\n",
        "             'test_history': test_acc_history}\n",
        "    return model"
      ],
      "metadata": {
        "id": "RUaRfJOvmsKo"
      },
      "execution_count": null,
      "outputs": []
    },
    {
      "cell_type": "code",
      "source": [
        "# Testing the model function by training a classifier\n",
        "\n",
        "l = 0\n",
        "alpha = 0.8\n",
        "epoch = 100\n",
        "batch_size = 6400\n",
        "\n",
        "model_0 = LogRegModel(X_train_n, Y_train, X_test_n, Y_test, alpha, epoch, batch_size, l)\n",
        "print('Training completed!')\n",
        "\n",
        "print(model_0['confusion_matrix'])\n",
        "print(f\"Train accuracy: {model_0['train_accuracy'] * 100} %, Test accuracy: {model_0['test_accuracy'] * 100} %\")\n",
        "\n",
        "# Viewing the cost evolution over time of the trained model\n",
        "\n",
        "cost_values = model_0['cost_history']\n",
        "plt.plot(list(range(len(cost_values))),cost_values)\n",
        "plt.title('Evolution of the cost by iteration')\n",
        "plt.xlabel('Iteration')\n",
        "plt.ylabel('Cost');"
      ],
      "metadata": {
        "colab": {
          "base_uri": "https://localhost:8080/",
          "height": 1000
        },
        "id": "kkngkk6Fls5e",
        "outputId": "1a8db81e-e957-432a-9695-8b39515391db"
      },
      "execution_count": null,
      "outputs": [
        {
          "output_type": "stream",
          "name": "stdout",
          "text": [
            "Epoch number: 0 / 100\n",
            "Cost: 0.6931471805599465, Train accuracy: 50.20312500000001 %, Test accuracy: 48.8125 %\n",
            "Epoch number: 1 / 100\n",
            "Cost: 0.6931471805599465, Train accuracy: 87.3125 %, Test accuracy: 87.25 %\n",
            "Epoch number: 2 / 100\n",
            "Cost: 0.5740567261397307, Train accuracy: 87.25 %, Test accuracy: 87.5 %\n",
            "Epoch number: 3 / 100\n",
            "Cost: 0.5039170585915715, Train accuracy: 87.265625 %, Test accuracy: 87.5 %\n",
            "Epoch number: 4 / 100\n",
            "Cost: 0.45936437704033367, Train accuracy: 87.234375 %, Test accuracy: 87.5625 %\n",
            "Epoch number: 5 / 100\n",
            "Cost: 0.42890954426159467, Train accuracy: 87.359375 %, Test accuracy: 87.5 %\n",
            "Epoch number: 6 / 100\n",
            "Cost: 0.4068618203384864, Train accuracy: 87.421875 %, Test accuracy: 87.6875 %\n",
            "Epoch number: 7 / 100\n",
            "Cost: 0.3901905090853594, Train accuracy: 87.5 %, Test accuracy: 87.875 %\n",
            "Epoch number: 8 / 100\n",
            "Cost: 0.3771566096907508, Train accuracy: 87.546875 %, Test accuracy: 88.0625 %\n",
            "Epoch number: 9 / 100\n",
            "Cost: 0.3666964780181579, Train accuracy: 87.5625 %, Test accuracy: 88.25 %\n",
            "Epoch number: 10 / 100\n",
            "Cost: 0.3581243436660854, Train accuracy: 87.5625 %, Test accuracy: 88.25 %\n",
            "Epoch number: 11 / 100\n",
            "Cost: 0.35097846615044276, Train accuracy: 87.59375 %, Test accuracy: 88.25 %\n",
            "Epoch number: 12 / 100\n",
            "Cost: 0.34493655681478785, Train accuracy: 87.65625 %, Test accuracy: 88.3125 %\n",
            "Epoch number: 13 / 100\n",
            "Cost: 0.3397667701787039, Train accuracy: 87.65625 %, Test accuracy: 88.3125 %\n",
            "Epoch number: 14 / 100\n",
            "Cost: 0.3352979993454188, Train accuracy: 87.703125 %, Test accuracy: 88.1875 %\n",
            "Epoch number: 15 / 100\n",
            "Cost: 0.3314011630423232, Train accuracy: 87.71875 %, Test accuracy: 88.1875 %\n",
            "Epoch number: 16 / 100\n",
            "Cost: 0.3279770172718212, Train accuracy: 87.734375 %, Test accuracy: 88.1875 %\n",
            "Epoch number: 17 / 100\n",
            "Cost: 0.3249479829408557, Train accuracy: 87.765625 %, Test accuracy: 88.0625 %\n",
            "Epoch number: 18 / 100\n",
            "Cost: 0.32225252511928715, Train accuracy: 87.734375 %, Test accuracy: 88.125 %\n",
            "Epoch number: 19 / 100\n",
            "Cost: 0.31984119952568046, Train accuracy: 87.734375 %, Test accuracy: 88.0625 %\n",
            "Epoch number: 20 / 100\n",
            "Cost: 0.3176738157359376, Train accuracy: 87.75 %, Test accuracy: 88.0625 %\n",
            "Epoch number: 21 / 100\n",
            "Cost: 0.31571736511344817, Train accuracy: 87.75 %, Test accuracy: 88.0625 %\n",
            "Epoch number: 22 / 100\n",
            "Cost: 0.3139444829048832, Train accuracy: 87.71875 %, Test accuracy: 88.0625 %\n",
            "Epoch number: 23 / 100\n",
            "Cost: 0.31233229018657116, Train accuracy: 87.703125 %, Test accuracy: 88.0 %\n",
            "Epoch number: 24 / 100\n",
            "Cost: 0.31086151033499676, Train accuracy: 87.671875 %, Test accuracy: 88.0625 %\n",
            "Epoch number: 25 / 100\n",
            "Cost: 0.30951578684330566, Train accuracy: 87.625 %, Test accuracy: 88.0625 %\n",
            "Epoch number: 26 / 100\n",
            "Cost: 0.30828115081149304, Train accuracy: 87.65625 %, Test accuracy: 88.0625 %\n",
            "Epoch number: 27 / 100\n",
            "Cost: 0.3071456010788179, Train accuracy: 87.71875 %, Test accuracy: 88.0 %\n",
            "Epoch number: 28 / 100\n",
            "Cost: 0.30609877009580816, Train accuracy: 87.71875 %, Test accuracy: 88.0 %\n",
            "Epoch number: 29 / 100\n",
            "Cost: 0.3051316557449697, Train accuracy: 87.765625 %, Test accuracy: 88.0 %\n",
            "Epoch number: 30 / 100\n",
            "Cost: 0.30423640438129707, Train accuracy: 87.765625 %, Test accuracy: 88.0 %\n",
            "Epoch number: 31 / 100\n",
            "Cost: 0.30340613401252986, Train accuracy: 87.765625 %, Test accuracy: 87.8125 %\n",
            "Epoch number: 32 / 100\n",
            "Cost: 0.3026347892003342, Train accuracy: 87.75 %, Test accuracy: 87.8125 %\n",
            "Epoch number: 33 / 100\n",
            "Cost: 0.3019170212258325, Train accuracy: 87.734375 %, Test accuracy: 87.8125 %\n",
            "Epoch number: 34 / 100\n",
            "Cost: 0.3012480885245615, Train accuracy: 87.71875 %, Test accuracy: 87.8125 %\n",
            "Epoch number: 35 / 100\n",
            "Cost: 0.30062377349513114, Train accuracy: 87.671875 %, Test accuracy: 87.8125 %\n",
            "Epoch number: 36 / 100\n",
            "Cost: 0.3000403126198773, Train accuracy: 87.671875 %, Test accuracy: 87.8125 %\n",
            "Epoch number: 37 / 100\n",
            "Cost: 0.2994943374739452, Train accuracy: 87.65625 %, Test accuracy: 87.8125 %\n",
            "Epoch number: 38 / 100\n",
            "Cost: 0.2989828246913737, Train accuracy: 87.65625 %, Test accuracy: 87.8125 %\n",
            "Epoch number: 39 / 100\n",
            "Cost: 0.29850305333910937, Train accuracy: 87.671875 %, Test accuracy: 87.8125 %\n",
            "Epoch number: 40 / 100\n",
            "Cost: 0.2980525684490456, Train accuracy: 87.703125 %, Test accuracy: 87.8125 %\n",
            "Epoch number: 41 / 100\n",
            "Cost: 0.2976291496938003, Train accuracy: 87.71875 %, Test accuracy: 87.8125 %\n",
            "Epoch number: 42 / 100\n",
            "Cost: 0.2972307843787, Train accuracy: 87.71875 %, Test accuracy: 87.8125 %\n",
            "Epoch number: 43 / 100\n",
            "Cost: 0.29685564407133286, Train accuracy: 87.6875 %, Test accuracy: 87.75 %\n",
            "Epoch number: 44 / 100\n",
            "Cost: 0.2965020643094197, Train accuracy: 87.703125 %, Test accuracy: 87.75 %\n",
            "Epoch number: 45 / 100\n",
            "Cost: 0.29616852692399975, Train accuracy: 87.703125 %, Test accuracy: 87.6875 %\n",
            "Epoch number: 46 / 100\n",
            "Cost: 0.29585364459290914, Train accuracy: 87.734375 %, Test accuracy: 87.6875 %\n",
            "Epoch number: 47 / 100\n",
            "Cost: 0.2955561473030333, Train accuracy: 87.71875 %, Test accuracy: 87.6875 %\n",
            "Epoch number: 48 / 100\n",
            "Cost: 0.2952748704517532, Train accuracy: 87.703125 %, Test accuracy: 87.6875 %\n",
            "Epoch number: 49 / 100\n",
            "Cost: 0.2950087443606919, Train accuracy: 87.71875 %, Test accuracy: 87.6875 %\n",
            "Epoch number: 50 / 100\n",
            "Cost: 0.294756785010086, Train accuracy: 87.71875 %, Test accuracy: 87.625 %\n",
            "Epoch number: 51 / 100\n",
            "Cost: 0.2945180858312893, Train accuracy: 87.71875 %, Test accuracy: 87.625 %\n",
            "Epoch number: 52 / 100\n",
            "Cost: 0.2942918104191883, Train accuracy: 87.71875 %, Test accuracy: 87.625 %\n",
            "Epoch number: 53 / 100\n",
            "Cost: 0.29407718604657535, Train accuracy: 87.71875 %, Test accuracy: 87.625 %\n",
            "Epoch number: 54 / 100\n",
            "Cost: 0.29387349787950606, Train accuracy: 87.71875 %, Test accuracy: 87.6875 %\n",
            "Epoch number: 55 / 100\n",
            "Cost: 0.29368008380694455, Train accuracy: 87.75 %, Test accuracy: 87.6875 %\n",
            "Epoch number: 56 / 100\n",
            "Cost: 0.2934963298100444, Train accuracy: 87.75 %, Test accuracy: 87.6875 %\n",
            "Epoch number: 57 / 100\n",
            "Cost: 0.29332166580660535, Train accuracy: 87.75 %, Test accuracy: 87.6875 %\n",
            "Epoch number: 58 / 100\n",
            "Cost: 0.2931555619148998, Train accuracy: 87.765625 %, Test accuracy: 87.625 %\n",
            "Epoch number: 59 / 100\n",
            "Cost: 0.29299752508842714, Train accuracy: 87.765625 %, Test accuracy: 87.625 %\n",
            "Epoch number: 60 / 100\n",
            "Cost: 0.29284709607944825, Train accuracy: 87.765625 %, Test accuracy: 87.625 %\n",
            "Epoch number: 61 / 100\n",
            "Cost: 0.2927038466945311, Train accuracy: 87.734375 %, Test accuracy: 87.625 %\n",
            "Epoch number: 62 / 100\n",
            "Cost: 0.2925673773099701, Train accuracy: 87.734375 %, Test accuracy: 87.625 %\n",
            "Epoch number: 63 / 100\n",
            "Cost: 0.29243731461891237, Train accuracy: 87.75 %, Test accuracy: 87.625 %\n",
            "Epoch number: 64 / 100\n",
            "Cost: 0.2923133095854629, Train accuracy: 87.75 %, Test accuracy: 87.6875 %\n",
            "Epoch number: 65 / 100\n",
            "Cost: 0.2921950355840079, Train accuracy: 87.734375 %, Test accuracy: 87.6875 %\n",
            "Epoch number: 66 / 100\n",
            "Cost: 0.2920821867045679, Train accuracy: 87.71875 %, Test accuracy: 87.75 %\n",
            "Epoch number: 67 / 100\n",
            "Cost: 0.2919744762072327, Train accuracy: 87.71875 %, Test accuracy: 87.75 %\n",
            "Epoch number: 68 / 100\n",
            "Cost: 0.2918716351106724, Train accuracy: 87.734375 %, Test accuracy: 87.75 %\n",
            "Epoch number: 69 / 100\n",
            "Cost: 0.2917734109014215, Train accuracy: 87.734375 %, Test accuracy: 87.75 %\n",
            "Epoch number: 70 / 100\n",
            "Cost: 0.2916795663521189, Train accuracy: 87.734375 %, Test accuracy: 87.75 %\n",
            "Epoch number: 71 / 100\n",
            "Cost: 0.2915898784381842, Train accuracy: 87.734375 %, Test accuracy: 87.75 %\n",
            "Epoch number: 72 / 100\n",
            "Cost: 0.29150413734355896, Train accuracy: 87.734375 %, Test accuracy: 87.75 %\n",
            "Epoch number: 73 / 100\n",
            "Cost: 0.29142214554714063, Train accuracy: 87.734375 %, Test accuracy: 87.8125 %\n",
            "Epoch number: 74 / 100\n",
            "Cost: 0.29134371698242767, Train accuracy: 87.734375 %, Test accuracy: 87.8125 %\n",
            "Epoch number: 75 / 100\n",
            "Cost: 0.2912686762636699, Train accuracy: 87.734375 %, Test accuracy: 87.8125 %\n",
            "Epoch number: 76 / 100\n",
            "Cost: 0.2911968579725146, Train accuracy: 87.734375 %, Test accuracy: 87.8125 %\n",
            "Epoch number: 77 / 100\n",
            "Cost: 0.2911281059997454, Train accuracy: 87.734375 %, Test accuracy: 87.8125 %\n",
            "Epoch number: 78 / 100\n",
            "Cost: 0.2910622729372583, Train accuracy: 87.75 %, Test accuracy: 87.8125 %\n",
            "Epoch number: 79 / 100\n",
            "Cost: 0.2909992195158966, Train accuracy: 87.75 %, Test accuracy: 87.8125 %\n",
            "Epoch number: 80 / 100\n",
            "Cost: 0.2909388140852004, Train accuracy: 87.734375 %, Test accuracy: 87.8125 %\n",
            "Epoch number: 81 / 100\n",
            "Cost: 0.29088093213150384, Train accuracy: 87.734375 %, Test accuracy: 87.8125 %\n",
            "Epoch number: 82 / 100\n",
            "Cost: 0.29082545583115765, Train accuracy: 87.734375 %, Test accuracy: 87.8125 %\n",
            "Epoch number: 83 / 100\n",
            "Cost: 0.29077227363595815, Train accuracy: 87.734375 %, Test accuracy: 87.8125 %\n",
            "Epoch number: 84 / 100\n",
            "Cost: 0.29072127988813706, Train accuracy: 87.734375 %, Test accuracy: 87.8125 %\n",
            "Epoch number: 85 / 100\n",
            "Cost: 0.29067237446251043, Train accuracy: 87.71875 %, Test accuracy: 87.8125 %\n",
            "Epoch number: 86 / 100\n",
            "Cost: 0.29062546243360554, Train accuracy: 87.71875 %, Test accuracy: 87.8125 %\n",
            "Epoch number: 87 / 100\n",
            "Cost: 0.29058045376577973, Train accuracy: 87.71875 %, Test accuracy: 87.8125 %\n",
            "Epoch number: 88 / 100\n",
            "Cost: 0.2905372630245255, Train accuracy: 87.734375 %, Test accuracy: 87.8125 %\n",
            "Epoch number: 89 / 100\n",
            "Cost: 0.29049580910731265, Train accuracy: 87.734375 %, Test accuracy: 87.8125 %\n",
            "Epoch number: 90 / 100\n",
            "Cost: 0.29045601499246504, Train accuracy: 87.734375 %, Test accuracy: 87.8125 %\n",
            "Epoch number: 91 / 100\n",
            "Cost: 0.29041780750469803, Train accuracy: 87.734375 %, Test accuracy: 87.8125 %\n",
            "Epoch number: 92 / 100\n",
            "Cost: 0.29038111709606007, Train accuracy: 87.734375 %, Test accuracy: 87.8125 %\n",
            "Epoch number: 93 / 100\n",
            "Cost: 0.2903458776411303, Train accuracy: 87.734375 %, Test accuracy: 87.8125 %\n",
            "Epoch number: 94 / 100\n",
            "Cost: 0.29031202624541785, Train accuracy: 87.71875 %, Test accuracy: 87.8125 %\n",
            "Epoch number: 95 / 100\n",
            "Cost: 0.29027950306599715, Train accuracy: 87.703125 %, Test accuracy: 87.8125 %\n",
            "Epoch number: 96 / 100\n",
            "Cost: 0.29024825114349395, Train accuracy: 87.703125 %, Test accuracy: 87.8125 %\n",
            "Epoch number: 97 / 100\n",
            "Cost: 0.2902182162446057, Train accuracy: 87.703125 %, Test accuracy: 87.8125 %\n",
            "Epoch number: 98 / 100\n",
            "Cost: 0.2901893467144102, Train accuracy: 87.703125 %, Test accuracy: 87.8125 %\n",
            "Epoch number: 99 / 100\n",
            "Cost: 0.2901615933377716, Train accuracy: 87.703125 %, Test accuracy: 87.875 %\n",
            "Training completed!\n",
            "[[677 104]\n",
            " [ 89 730]]\n",
            "Train accuracy: 87.703125 %, Test accuracy: 87.9375 %\n"
          ]
        },
        {
          "output_type": "display_data",
          "data": {
            "text/plain": [
              "<Figure size 640x480 with 1 Axes>"
            ],
            "image/png": "[encoded data removed]"
          },
          "metadata": {}
        }
      ]
    },
    {
      "cell_type": "code",
      "source": [
        "train_values = model_0['train_history']\n",
        "test_values = model_0['test_history']\n",
        "plt.plot(list(range(len(train_values))),train_values)\n",
        "plt.plot(list(range(len(test_values))), test_values)\n",
        "plt.title('Evolution of the accuracy by iteration')\n",
        "plt.xlabel('Iteration')\n",
        "plt.ylabel('Accuracy')\n",
        "plt.legend(['train accuracy', 'test accuracy'])"
      ],
      "metadata": {
        "id": "7_hrhZ-HiDpv"
      },
      "execution_count": null,
      "outputs": []
    },
    {
      "cell_type": "code",
      "source": [
        "train_values = model_0['train_history']\n",
        "test_values = model_0['test_history']\n",
        "plt.plot(list(range(len(train_values))),train_values)\n",
        "plt.plot(list(range(len(test_values))), test_values)\n",
        "plt.title('Evolution of the accuracy by iteration')\n",
        "plt.xlabel('Iteration')\n",
        "plt.ylabel('Accuracy')\n",
        "plt.legend(['train accuracy', 'test accuracy'])"
      ],
      "metadata": {
        "colab": {
          "base_uri": "https://localhost:8080/",
          "height": 489
        },
        "id": "g-Rk067ml_dj",
        "outputId": "d8d7c498-5d04-47f4-ba49-07899b47a49d"
      },
      "execution_count": null,
      "outputs": [
        {
          "output_type": "execute_result",
          "data": {
            "text/plain": [
              "<matplotlib.legend.Legend at 0x7ed920416170>"
            ]
          },
          "metadata": {},
          "execution_count": 28
        },
        {
          "output_type": "display_data",
          "data": {
            "text/plain": [
              "<Figure size 640x480 with 1 Axes>"
            ],
            "image/png": "[encoded data removed]"
          },
          "metadata": {}
        }
      ]
    },
    {
      "cell_type": "code",
      "source": [
        "print(model_0['confusion_matrix'])"
      ],
      "metadata": {
        "colab": {
          "base_uri": "https://localhost:8080/"
        },
        "id": "NYO0kbyQpqyB",
        "outputId": "5106dc8f-2fae-4789-ed2f-70caf741ce37"
      },
      "execution_count": null,
      "outputs": [
        {
          "output_type": "stream",
          "name": "stdout",
          "text": [
            "[[677 104]\n",
            " [ 89 730]]\n"
          ]
        }
      ]
    },
    {
      "cell_type": "code",
      "source": [
        "# Testing the model function by training a classifier\n",
        "\n",
        "l = 0\n",
        "alpha = 0.8\n",
        "epoch = 100\n",
        "batch_size = 8000\n",
        "\n",
        "X_norm_n = concatenator(X_norm)\n",
        "Y = Y.reshape(-1,1)\n",
        "\n",
        "model_0 = LogRegModel(X_norm_n, Y, X_norm_n, Y, alpha, epoch, batch_size, l)\n",
        "print('Training completed!')\n",
        "\n",
        "print(model_0['confusion_matrix'])\n",
        "print(f\"Train accuracy: {model_0['train_accuracy'] * 100} %, Test accuracy: {model_0['test_accuracy'] * 100} %\")\n",
        "\n",
        "# Viewing the cost evolution over time of the trained model\n",
        "\n",
        "cost_values = model_0['cost_history']\n",
        "plt.plot(list(range(len(cost_values))),cost_values)\n",
        "plt.title('Evolution of the cost by iteration')\n",
        "plt.xlabel('Iteration')\n",
        "plt.ylabel('Cost');"
      ],
      "metadata": {
        "id": "pjFdGKLRxAum",
        "colab": {
          "base_uri": "https://localhost:8080/",
          "height": 1000
        },
        "outputId": "515a1bca-cda0-4300-c399-83be6cda7a1e"
      },
      "execution_count": null,
      "outputs": [
        {
          "output_type": "stream",
          "name": "stdout",
          "text": [
            "The data now has a column of ones in front. It went from dimensions (8000, 7) to (8000, 8)\n",
            "Epoch number: 0 / 100\n",
            "Cost: 0.6931471805599466, Train accuracy: 49.925000000000004 %, Test accuracy: 49.925000000000004 %\n",
            "Epoch number: 1 / 100\n",
            "Cost: 0.6931471805599466, Train accuracy: 87.2125 %, Test accuracy: 87.2125 %\n",
            "Epoch number: 2 / 100\n",
            "Cost: 0.5731649858896524, Train accuracy: 87.2 %, Test accuracy: 87.2 %\n",
            "Epoch number: 3 / 100\n",
            "Cost: 0.5026528273830843, Train accuracy: 87.275 %, Test accuracy: 87.275 %\n",
            "Epoch number: 4 / 100\n",
            "Cost: 0.4579463918050764, Train accuracy: 87.2625 %, Test accuracy: 87.2625 %\n",
            "Epoch number: 5 / 100\n",
            "Cost: 0.4274354783451261, Train accuracy: 87.375 %, Test accuracy: 87.375 %\n",
            "Epoch number: 6 / 100\n",
            "Cost: 0.40537888221892965, Train accuracy: 87.4 %, Test accuracy: 87.4 %\n",
            "Epoch number: 7 / 100\n",
            "Cost: 0.3887227768735046, Train accuracy: 87.41250000000001 %, Test accuracy: 87.41250000000001 %\n",
            "Epoch number: 8 / 100\n",
            "Cost: 0.3757166727831514, Train accuracy: 87.5375 %, Test accuracy: 87.5375 %\n",
            "Epoch number: 9 / 100\n",
            "Cost: 0.3652908550903783, Train accuracy: 87.61250000000001 %, Test accuracy: 87.61250000000001 %\n",
            "Epoch number: 10 / 100\n",
            "Cost: 0.3567561921873854, Train accuracy: 87.6625 %, Test accuracy: 87.6625 %\n",
            "Epoch number: 11 / 100\n",
            "Cost: 0.3496490184548694, Train accuracy: 87.7375 %, Test accuracy: 87.7375 %\n",
            "Epoch number: 12 / 100\n",
            "Cost: 0.34364591813109535, Train accuracy: 87.7625 %, Test accuracy: 87.7625 %\n",
            "Epoch number: 13 / 100\n",
            "Cost: 0.33851437958434477, Train accuracy: 87.7875 %, Test accuracy: 87.7875 %\n",
            "Epoch number: 14 / 100\n",
            "Cost: 0.33408290450320377, Train accuracy: 87.825 %, Test accuracy: 87.825 %\n",
            "Epoch number: 15 / 100\n",
            "Cost: 0.33022218807423187, Train accuracy: 87.825 %, Test accuracy: 87.825 %\n",
            "Epoch number: 16 / 100\n",
            "Cost: 0.326832867284563, Train accuracy: 87.8125 %, Test accuracy: 87.8125 %\n",
            "Epoch number: 17 / 100\n",
            "Cost: 0.3238373099437605, Train accuracy: 87.8625 %, Test accuracy: 87.8625 %\n",
            "Epoch number: 18 / 100\n",
            "Cost: 0.32117396985336927, Train accuracy: 87.875 %, Test accuracy: 87.875 %\n",
            "Epoch number: 19 / 100\n",
            "Cost: 0.31879341796424937, Train accuracy: 87.8625 %, Test accuracy: 87.8625 %\n",
            "Epoch number: 20 / 100\n",
            "Cost: 0.3166554956732362, Train accuracy: 87.85 %, Test accuracy: 87.85 %\n",
            "Epoch number: 21 / 100\n",
            "Cost: 0.3147272362627934, Train accuracy: 87.8125 %, Test accuracy: 87.8125 %\n",
            "Epoch number: 22 / 100\n",
            "Cost: 0.3129813227083854, Train accuracy: 87.8 %, Test accuracy: 87.8 %\n",
            "Epoch number: 23 / 100\n",
            "Cost: 0.3113949267768452, Train accuracy: 87.8 %, Test accuracy: 87.8 %\n",
            "Epoch number: 24 / 100\n",
            "Cost: 0.3099488236041942, Train accuracy: 87.7875 %, Test accuracy: 87.7875 %\n",
            "Epoch number: 25 / 100\n",
            "Cost: 0.30862670826044664, Train accuracy: 87.8 %, Test accuracy: 87.8 %\n",
            "Epoch number: 26 / 100\n",
            "Cost: 0.3074146624221968, Train accuracy: 87.775 %, Test accuracy: 87.775 %\n",
            "Epoch number: 27 / 100\n",
            "Cost: 0.30630073398348007, Train accuracy: 87.7375 %, Test accuracy: 87.7375 %\n",
            "Epoch number: 28 / 100\n",
            "Cost: 0.3052746026090573, Train accuracy: 87.7625 %, Test accuracy: 87.7625 %\n",
            "Epoch number: 29 / 100\n",
            "Cost: 0.3043273113756063, Train accuracy: 87.7375 %, Test accuracy: 87.7375 %\n",
            "Epoch number: 30 / 100\n",
            "Cost: 0.3034510497281156, Train accuracy: 87.7375 %, Test accuracy: 87.7375 %\n",
            "Epoch number: 31 / 100\n",
            "Cost: 0.3026389766410306, Train accuracy: 87.7 %, Test accuracy: 87.7 %\n",
            "Epoch number: 32 / 100\n",
            "Cost: 0.301885075544132, Train accuracy: 87.725 %, Test accuracy: 87.725 %\n",
            "Epoch number: 33 / 100\n",
            "Cost: 0.3011840345417118, Train accuracy: 87.725 %, Test accuracy: 87.725 %\n",
            "Epoch number: 34 / 100\n",
            "Cost: 0.3005311469196972, Train accuracy: 87.7375 %, Test accuracy: 87.7375 %\n",
            "Epoch number: 35 / 100\n",
            "Cost: 0.29992222803766866, Train accuracy: 87.7625 %, Test accuracy: 87.7625 %\n",
            "Epoch number: 36 / 100\n",
            "Cost: 0.29935354553892934, Train accuracy: 87.7625 %, Test accuracy: 87.7625 %\n",
            "Epoch number: 37 / 100\n",
            "Cost: 0.29882176045148773, Train accuracy: 87.775 %, Test accuracy: 87.775 %\n",
            "Epoch number: 38 / 100\n",
            "Cost: 0.29832387724605497, Train accuracy: 87.7625 %, Test accuracy: 87.7625 %\n",
            "Epoch number: 39 / 100\n",
            "Cost: 0.29785720130030846, Train accuracy: 87.7625 %, Test accuracy: 87.7625 %\n",
            "Epoch number: 40 / 100\n",
            "Cost: 0.29741930251840676, Train accuracy: 87.7375 %, Test accuracy: 87.7375 %\n",
            "Epoch number: 41 / 100\n",
            "Cost: 0.2970079840907644, Train accuracy: 87.75 %, Test accuracy: 87.75 %\n",
            "Epoch number: 42 / 100\n",
            "Cost: 0.2966212555661369, Train accuracy: 87.75 %, Test accuracy: 87.75 %\n",
            "Epoch number: 43 / 100\n",
            "Cost: 0.2962573095571639, Train accuracy: 87.7375 %, Test accuracy: 87.7375 %\n",
            "Epoch number: 44 / 100\n",
            "Cost: 0.29591450152005383, Train accuracy: 87.7375 %, Test accuracy: 87.7375 %\n",
            "Epoch number: 45 / 100\n",
            "Cost: 0.29559133214543204, Train accuracy: 87.7375 %, Test accuracy: 87.7375 %\n",
            "Epoch number: 46 / 100\n",
            "Cost: 0.2952864319754359, Train accuracy: 87.75 %, Test accuracy: 87.75 %\n",
            "Epoch number: 47 / 100\n",
            "Cost: 0.29499854792567276, Train accuracy: 87.75 %, Test accuracy: 87.75 %\n",
            "Epoch number: 48 / 100\n",
            "Cost: 0.29472653144263905, Train accuracy: 87.7375 %, Test accuracy: 87.7375 %\n",
            "Epoch number: 49 / 100\n",
            "Cost: 0.29446932806989, Train accuracy: 87.725 %, Test accuracy: 87.725 %\n",
            "Epoch number: 50 / 100\n",
            "Cost: 0.2942259682314809, Train accuracy: 87.7375 %, Test accuracy: 87.7375 %\n",
            "Epoch number: 51 / 100\n",
            "Cost: 0.29399555907038305, Train accuracy: 87.75 %, Test accuracy: 87.75 %\n",
            "Epoch number: 52 / 100\n",
            "Cost: 0.29377727720384667, Train accuracy: 87.75 %, Test accuracy: 87.75 %\n",
            "Epoch number: 53 / 100\n",
            "Cost: 0.2935703622779463, Train accuracy: 87.75 %, Test accuracy: 87.75 %\n",
            "Epoch number: 54 / 100\n",
            "Cost: 0.2933741112205141, Train accuracy: 87.75 %, Test accuracy: 87.75 %\n",
            "Epoch number: 55 / 100\n",
            "Cost: 0.29318787310593675, Train accuracy: 87.75 %, Test accuracy: 87.75 %\n",
            "Epoch number: 56 / 100\n",
            "Cost: 0.29301104455732707, Train accuracy: 87.75 %, Test accuracy: 87.75 %\n",
            "Epoch number: 57 / 100\n",
            "Cost: 0.292843065621763, Train accuracy: 87.7375 %, Test accuracy: 87.7375 %\n",
            "Epoch number: 58 / 100\n",
            "Cost: 0.29268341606293174, Train accuracy: 87.7125 %, Test accuracy: 87.7125 %\n",
            "Epoch number: 59 / 100\n",
            "Cost: 0.2925316120228733, Train accuracy: 87.7125 %, Test accuracy: 87.7125 %\n",
            "Epoch number: 60 / 100\n",
            "Cost: 0.2923872030107963, Train accuracy: 87.675 %, Test accuracy: 87.675 %\n",
            "Epoch number: 61 / 100\n",
            "Cost: 0.29224976918232176, Train accuracy: 87.7 %, Test accuracy: 87.7 %\n",
            "Epoch number: 62 / 100\n",
            "Cost: 0.2921189188771183, Train accuracy: 87.7 %, Test accuracy: 87.7 %\n",
            "Epoch number: 63 / 100\n",
            "Cost: 0.2919942863868692, Train accuracy: 87.7 %, Test accuracy: 87.7 %\n",
            "Epoch number: 64 / 100\n",
            "Cost: 0.29187552992893306, Train accuracy: 87.7125 %, Test accuracy: 87.7125 %\n",
            "Epoch number: 65 / 100\n",
            "Cost: 0.29176232980402755, Train accuracy: 87.7125 %, Test accuracy: 87.7125 %\n",
            "Epoch number: 66 / 100\n",
            "Cost: 0.29165438671882815, Train accuracy: 87.6875 %, Test accuracy: 87.6875 %\n",
            "Epoch number: 67 / 100\n",
            "Cost: 0.2915514202566063, Train accuracy: 87.6875 %, Test accuracy: 87.6875 %\n",
            "Epoch number: 68 / 100\n",
            "Cost: 0.29145316748097616, Train accuracy: 87.7 %, Test accuracy: 87.7 %\n",
            "Epoch number: 69 / 100\n",
            "Cost: 0.29135938165950637, Train accuracy: 87.7125 %, Test accuracy: 87.7125 %\n",
            "Epoch number: 70 / 100\n",
            "Cost: 0.2912698310954438, Train accuracy: 87.7125 %, Test accuracy: 87.7125 %\n",
            "Epoch number: 71 / 100\n",
            "Cost: 0.29118429805708274, Train accuracy: 87.7125 %, Test accuracy: 87.7125 %\n",
            "Epoch number: 72 / 100\n",
            "Cost: 0.2911025777954608, Train accuracy: 87.7 %, Test accuracy: 87.7 %\n",
            "Epoch number: 73 / 100\n",
            "Cost: 0.29102447764205813, Train accuracy: 87.725 %, Test accuracy: 87.725 %\n",
            "Epoch number: 74 / 100\n",
            "Cost: 0.29094981617906135, Train accuracy: 87.7125 %, Test accuracy: 87.7125 %\n",
            "Epoch number: 75 / 100\n",
            "Cost: 0.29087842247552975, Train accuracy: 87.7125 %, Test accuracy: 87.7125 %\n",
            "Epoch number: 76 / 100\n",
            "Cost: 0.2908101353834901, Train accuracy: 87.7125 %, Test accuracy: 87.7125 %\n",
            "Epoch number: 77 / 100\n",
            "Cost: 0.29074480288859694, Train accuracy: 87.7125 %, Test accuracy: 87.7125 %\n",
            "Epoch number: 78 / 100\n",
            "Cost: 0.29068228151053094, Train accuracy: 87.7125 %, Test accuracy: 87.7125 %\n",
            "Epoch number: 79 / 100\n",
            "Cost: 0.29062243574879393, Train accuracy: 87.7125 %, Test accuracy: 87.7125 %\n",
            "Epoch number: 80 / 100\n",
            "Cost: 0.2905651375699789, Train accuracy: 87.7125 %, Test accuracy: 87.7125 %\n",
            "Epoch number: 81 / 100\n",
            "Cost: 0.29051026593298096, Train accuracy: 87.7125 %, Test accuracy: 87.7125 %\n",
            "Epoch number: 82 / 100\n",
            "Cost: 0.29045770634894763, Train accuracy: 87.7125 %, Test accuracy: 87.7125 %\n",
            "Epoch number: 83 / 100\n",
            "Cost: 0.2904073504730757, Train accuracy: 87.725 %, Test accuracy: 87.725 %\n",
            "Epoch number: 84 / 100\n",
            "Cost: 0.29035909572562885, Train accuracy: 87.75 %, Test accuracy: 87.75 %\n",
            "Epoch number: 85 / 100\n",
            "Cost: 0.29031284493979587, Train accuracy: 87.75 %, Test accuracy: 87.75 %\n",
            "Epoch number: 86 / 100\n",
            "Cost: 0.2902685060342276, Train accuracy: 87.75 %, Test accuracy: 87.75 %\n",
            "Epoch number: 87 / 100\n",
            "Cost: 0.29022599170828284, Train accuracy: 87.7625 %, Test accuracy: 87.7625 %\n",
            "Epoch number: 88 / 100\n",
            "Cost: 0.2901852191581958, Train accuracy: 87.7625 %, Test accuracy: 87.7625 %\n",
            "Epoch number: 89 / 100\n",
            "Cost: 0.2901461098125307, Train accuracy: 87.7625 %, Test accuracy: 87.7625 %\n",
            "Epoch number: 90 / 100\n",
            "Cost: 0.29010858908543524, Train accuracy: 87.7625 %, Test accuracy: 87.7625 %\n",
            "Epoch number: 91 / 100\n",
            "Cost: 0.29007258614633247, Train accuracy: 87.7625 %, Test accuracy: 87.7625 %\n",
            "Epoch number: 92 / 100\n",
            "Cost: 0.2900380337048093, Train accuracy: 87.7625 %, Test accuracy: 87.7625 %\n",
            "Epoch number: 93 / 100\n",
            "Cost: 0.2900048678095617, Train accuracy: 87.7625 %, Test accuracy: 87.7625 %\n",
            "Epoch number: 94 / 100\n",
            "Cost: 0.2899730276603575, Train accuracy: 87.775 %, Test accuracy: 87.775 %\n",
            "Epoch number: 95 / 100\n",
            "Cost: 0.28994245543205793, Train accuracy: 87.7625 %, Test accuracy: 87.7625 %\n",
            "Epoch number: 96 / 100\n",
            "Cost: 0.289913096109825, Train accuracy: 87.775 %, Test accuracy: 87.775 %\n",
            "Epoch number: 97 / 100\n",
            "Cost: 0.2898848973347068, Train accuracy: 87.775 %, Test accuracy: 87.775 %\n",
            "Epoch number: 98 / 100\n",
            "Cost: 0.2898578092588622, Train accuracy: 87.775 %, Test accuracy: 87.775 %\n",
            "Epoch number: 99 / 100\n",
            "Cost: 0.2898317844097434, Train accuracy: 87.775 %, Test accuracy: 87.775 %\n",
            "Training completed!\n",
            "[[3475  519]\n",
            " [ 460 3546]]\n",
            "Train accuracy: 87.7625 %, Test accuracy: 87.7625 %\n"
          ]
        },
        {
          "output_type": "display_data",
          "data": {
            "text/plain": [
              "<Figure size 640x480 with 1 Axes>"
            ],
            "image/png": "[encoded data removed]"
          },
          "metadata": {}
        }
      ]
    },
    {
      "cell_type": "code",
      "source": [
        "print(model_0['confusion_matrix'])"
      ],
      "metadata": {
        "colab": {
          "base_uri": "https://localhost:8080/"
        },
        "id": "w_WBcFJDqrYi",
        "outputId": "fca9bc3e-4407-4e98-b311-2d40e5381402"
      },
      "execution_count": null,
      "outputs": [
        {
          "output_type": "stream",
          "name": "stdout",
          "text": [
            "[[3475  519]\n",
            " [ 460 3546]]\n"
          ]
        }
      ]
    },
    {
      "cell_type": "code",
      "source": [
        "print(Y.shape)\n",
        "print(X_norm_n.shape)"
      ],
      "metadata": {
        "colab": {
          "base_uri": "https://localhost:8080/"
        },
        "id": "R-2JGD9RrYkN",
        "outputId": "3a9f5142-226b-4f65-8908-db1fb5670522"
      },
      "execution_count": null,
      "outputs": [
        {
          "output_type": "stream",
          "name": "stdout",
          "text": [
            "(8000, 1)\n",
            "(8000, 8)\n"
          ]
        }
      ]
    },
    {
      "cell_type": "code",
      "source": [
        "train_values = model_0['train_history']\n",
        "test_values = model_0['test_history']\n",
        "plt.plot(list(range(len(train_values))),train_values)\n",
        "plt.plot(list(range(len(test_values))), test_values)\n",
        "plt.title('Evolution of the accuracy by iteration')\n",
        "plt.xlabel('Iteration')\n",
        "plt.ylabel('Accuracy')\n",
        "plt.legend(['train accuracy', 'test accuracy'])"
      ],
      "metadata": {
        "colab": {
          "base_uri": "https://localhost:8080/",
          "height": 489
        },
        "id": "KBONDJegqr_i",
        "outputId": "62d6bbb3-f304-46cf-caed-946d8e105f75"
      },
      "execution_count": null,
      "outputs": [
        {
          "output_type": "execute_result",
          "data": {
            "text/plain": [
              "<matplotlib.legend.Legend at 0x7ed91d4dba90>"
            ]
          },
          "metadata": {},
          "execution_count": 47
        },
        {
          "output_type": "display_data",
          "data": {
            "text/plain": [
              "<Figure size 640x480 with 1 Axes>"
            ],
            "image/png": "[encoded data removed]"
          },
          "metadata": {}
        }
      ]
    }
  ]
}
